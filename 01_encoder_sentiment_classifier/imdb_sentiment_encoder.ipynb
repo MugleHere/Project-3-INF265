{
 "cells": [
  {
   "cell_type": "code",
   "execution_count": 1,
   "metadata": {},
   "outputs": [],
   "source": [
    "import torch\n",
    "import torch.nn as nn\n",
    "import torch.optim as optim\n",
    "from torch.utils.data import DataLoader, Dataset\n",
    "from datasets import load_dataset\n",
    "from tokenizers import Tokenizer\n",
    "from tokenizers.models import WordLevel\n",
    "from tokenizers.pre_tokenizers import Whitespace\n",
    "from tokenizers.trainers import WordLevelTrainer\n",
    "from sklearn.metrics import confusion_matrix, ConfusionMatrixDisplay # Added for confusion matrix\n",
    "import numpy as np\n",
    "import matplotlib.pyplot as plt\n",
    "from tqdm import tqdm\n",
    "import re\n",
    "import os\n",
    "\n",
    "os.environ[\"TOKENIZERS_PARALLELISM\"] = \"false\" # Avoids warning from tokenizer when using num_workers > 0 in DataLoader"
   ]
  },
  {
   "cell_type": "markdown",
   "metadata": {},
   "source": [
    "# Encoder-only Transformer for Text Sentiment Classification\n",
    "\n",
    "## 1. Data\n",
    "\n",
    "### 1.1 Load the IMDB dataset\n",
    "\n",
    "We will use the IMDB dataset for sentiment classification. The dataset consists of 50,000 movie reviews, each labeled as positive or negative. We will use 25k reviews for training, 5k for validation, and 20k for testing."
   ]
  },
  {
   "cell_type": "code",
   "execution_count": 2,
   "metadata": {},
   "outputs": [
    {
     "name": "stdout",
     "output_type": "stream",
     "text": [
      "Train size: 25000\n",
      "Validation size: 5000\n",
      "Test size: 20000\n"
     ]
    }
   ],
   "source": [
    "# Constants\n",
    "SEED = 420\n",
    "VAL_SIZE = 0.2\n",
    "\n",
    "# Load IMDB dataset\n",
    "dataset_train = load_dataset(\"imdb\", split=\"train\")\n",
    "dataset_test = load_dataset(\"imdb\", split=\"test\")\n",
    "\n",
    "# Split test into test and validation\n",
    "dataset_test = dataset_test.train_test_split(test_size=1-VAL_SIZE, seed=SEED)\n",
    "dataset_test, dataset_val = dataset_test[\"test\"], dataset_test[\"train\"]\n",
    "\n",
    "print(f\"Train size: {len(dataset_train)}\")\n",
    "print(f\"Validation size: {len(dataset_val)}\")\n",
    "print(f\"Test size: {len(dataset_test)}\")"
   ]
  },
  {
   "cell_type": "markdown",
   "metadata": {},
   "source": [
    "### 1.2 Preprocess the data\n",
    "\n",
    "We remove HTML tags, special characters, and convert the text to lowercase."
   ]
  },
  {
   "cell_type": "code",
   "execution_count": 3,
   "metadata": {},
   "outputs": [],
   "source": [
    "def remove_html_tags(text):\n",
    "    # Remove HTML tags\n",
    "    return re.sub(r'<[^>]*>', '', text)\n",
    "\n",
    "def remove_special_characters(text):\n",
    "    # Remove special characters except for ,.!? and space\n",
    "    return re.sub(r'[^a-zA-Z0-9.,!? ]', '', text)\n",
    "\n",
    "def to_lowercase(text):\n",
    "    # Convert text to lowercase\n",
    "    return text.lower()\n",
    "\n",
    "def preprocess_text(text):\n",
    "    # Apply all preprocessing steps to the text\n",
    "    text = remove_html_tags(text)\n",
    "    text = remove_special_characters(text)\n",
    "    text = to_lowercase(text)\n",
    "    return text\n",
    "\n",
    "def preprocess_batch(examples):\n",
    "    # Apply preprocessing to all texts in the batch\n",
    "    examples[\"text\"] = [preprocess_text(text) for text in examples[\"text\"]]\n",
    "    return examples\n",
    "\n",
    "# Preprocess the dataset\n",
    "dataset_train = dataset_train.map(preprocess_batch, batched=True)\n",
    "dataset_val = dataset_val.map(preprocess_batch, batched=True)\n",
    "dataset_test = dataset_test.map(preprocess_batch, batched=True)"
   ]
  },
  {
   "cell_type": "markdown",
   "metadata": {},
   "source": [
    "### 1.3 Tokenization\n",
    "\n",
    "We use a simple word-level tokenizer to tokenize the text data. We use three special tokens: `[PAD]`, `[UNK]` and `[CLS]`. The `[PAD]` token will be used to pad the input sequences to the same length. The `[UNK]` token is used to represent out-of-vocabulary words (rare words). When classifying text, we will prepend the `[CLS]` token to the input sequence and use its output as the representation of the whole sequence.\n",
    "\n",
    "To reduce the vocabulary size, we only keep words appearing at least `MIN_FREQUENCY` times in the training set."
   ]
  },
  {
   "cell_type": "code",
   "execution_count": 4,
   "metadata": {},
   "outputs": [],
   "source": [
    "# Special tokens (padding, unknown, classification)\n",
    "PAD_TOKEN = \"[PAD]\"\n",
    "UNK_TOKEN = \"[UNK]\"\n",
    "CLS_TOKEN = \"[CLS]\"\n",
    "MIN_FREQUENCY = 10\n",
    "VOCAB_SIZE = 10000\n",
    "\n",
    "# Tokenizer setup\n",
    "tokenizer = Tokenizer(WordLevel(unk_token=UNK_TOKEN))\n",
    "tokenizer.pre_tokenizer = Whitespace() # Split on whitespace\n",
    "\n",
    "# Train tokenizer on the training set\n",
    "trainer = WordLevelTrainer(special_tokens=[PAD_TOKEN, UNK_TOKEN, CLS_TOKEN], min_frequency=MIN_FREQUENCY, vocab_size=VOCAB_SIZE)\n",
    "tokenizer.train_from_iterator(dataset_train[\"text\"], trainer)"
   ]
  },
  {
   "cell_type": "markdown",
   "metadata": {},
   "source": [
    "We test the tokenizer on a few examples to verify that it works as expected."
   ]
  },
  {
   "cell_type": "code",
   "execution_count": 5,
   "metadata": {},
   "outputs": [
    {
     "name": "stdout",
     "output_type": "stream",
     "text": [
      "Original text: i rented i am curiousyellow from my video store because of all the controversy that surrounded it when it was first released in 1967. i also heard that at first it was seized by u.s. customs if it ever tried to enter this country, therefore being a fan of films considered controversial i really had to see this for myself.the plot is centered around a young swedish drama student named lena who wants to learn everything she can about life. in particular she wants to focus her attentions to making some sort of documentary on what the average swede thought about certain political issues such as the vietnam war and race issues in the united states. in between asking politicians and ordinary denizens of stockholm about their opinions on politics, she has sex with her drama teacher, classmates, and married men.what kills me about i am curiousyellow is that 40 years ago, this was considered pornographic. really, the sex and nudity scenes are few and far between, even then its not shot like some cheaply made porno. while my countrymen mind find it shocking, in reality sex and nudity are a major staple in swedish cinema. even ingmar bergman, arguably their answer to good old boy john ford, had sex scenes in his films.i do commend the filmmakers for the fact that any sex shown in the film is shown for artistic purposes rather than just to shock people and make money to be shown in pornographic theaters in america. i am curiousyellow is a good film for anyone wanting to study the meat and potatoes no pun intended of swedish cinema. but really, this film doesnt have much of a plot.\n",
      "Tokenized text (tokens): ['i', 'rented', 'i', 'am', '[UNK]', 'from', 'my', 'video', 'store', 'because', 'of', 'all', 'the', 'controversy', 'that', 'surrounded', 'it', 'when', 'it', 'was', 'first', 'released', 'in', '1967', '.', 'i', 'also', 'heard', 'that', 'at', 'first', 'it', 'was', '[UNK]', 'by', 'u', '.', 's', '.', 'customs', 'if', 'it', 'ever', 'tried', 'to', 'enter', 'this', 'country', ',', 'therefore', 'being', 'a', 'fan', 'of', 'films', 'considered', 'controversial', 'i', 'really', 'had', 'to', 'see', 'this', 'for', 'myself', '.', 'the', 'plot', 'is', 'centered', 'around', 'a', 'young', 'swedish', 'drama', 'student', 'named', 'lena', 'who', 'wants', 'to', 'learn', 'everything', 'she', 'can', 'about', 'life', '.', 'in', 'particular', 'she', 'wants', 'to', 'focus', 'her', '[UNK]', 'to', 'making', 'some', 'sort', 'of', 'documentary', 'on', 'what', 'the', 'average', '[UNK]', 'thought', 'about', 'certain', 'political', 'issues', 'such', 'as', 'the', 'vietnam', 'war', 'and', 'race', 'issues', 'in', 'the', 'united', 'states', '.', 'in', 'between', 'asking', 'politicians', 'and', 'ordinary', '[UNK]', 'of', '[UNK]', 'about', 'their', 'opinions', 'on', 'politics', ',', 'she', 'has', 'sex', 'with', 'her', 'drama', 'teacher', ',', 'classmates', ',', 'and', 'married', 'men', '.', 'what', 'kills', 'me', 'about', 'i', 'am', '[UNK]', 'is', 'that', '40', 'years', 'ago', ',', 'this', 'was', 'considered', 'pornographic', '.', 'really', ',', 'the', 'sex', 'and', 'nudity', 'scenes', 'are', 'few', 'and', 'far', 'between', ',', 'even', 'then', 'its', 'not', 'shot', 'like', 'some', 'cheaply', 'made', 'porno', '.', 'while', 'my', '[UNK]', 'mind', 'find', 'it', 'shocking', ',', 'in', 'reality', 'sex', 'and', 'nudity', 'are', 'a', 'major', '[UNK]', 'in', 'swedish', 'cinema', '.', 'even', '[UNK]', 'bergman', ',', 'arguably', 'their', 'answer', 'to', 'good', 'old', 'boy', 'john', 'ford', ',', 'had', 'sex', 'scenes', 'in', 'his', 'films', '.', 'i', 'do', '[UNK]', 'the', 'filmmakers', 'for', 'the', 'fact', 'that', 'any', 'sex', 'shown', 'in', 'the', 'film', 'is', 'shown', 'for', 'artistic', 'purposes', 'rather', 'than', 'just', 'to', 'shock', 'people', 'and', 'make', 'money', 'to', 'be', 'shown', 'in', 'pornographic', 'theaters', 'in', 'america', '.', 'i', 'am', '[UNK]', 'is', 'a', 'good', 'film', 'for', 'anyone', 'wanting', 'to', 'study', 'the', 'meat', 'and', '[UNK]', 'no', 'pun', 'intended', 'of', 'swedish', 'cinema', '.', 'but', 'really', ',', 'this', 'film', 'doesnt', 'have', 'much', 'of', 'a', 'plot', '.']\n",
      "Tokenized text (IDs): [13, 1577, 13, 242, 1, 39, 60, 396, 1144, 89, 8, 33, 3, 7116, 15, 3369, 12, 55, 12, 16, 91, 628, 11, 7200, 4, 13, 83, 553, 15, 34, 91, 12, 16, 1, 35, 1242, 4, 826, 4, 9091, 46, 12, 127, 783, 9, 2501, 14, 705, 5, 1590, 114, 7, 338, 8, 101, 1168, 3060, 13, 67, 72, 9, 70, 14, 18, 536, 4, 3, 118, 10, 5920, 189, 7, 187, 3887, 473, 1485, 769, 4641, 38, 483, 9, 839, 283, 58, 73, 45, 123, 4, 11, 831, 58, 483, 9, 1140, 42, 1, 9, 252, 49, 436, 8, 678, 23, 51, 3, 870, 1, 205, 45, 784, 1011, 1314, 142, 17, 3, 2698, 332, 6, 1530, 1314, 11, 3, 2378, 1575, 4, 11, 199, 2188, 6981, 6, 1929, 1, 8, 1, 45, 69, 4644, 23, 2412, 5, 58, 47, 395, 19, 42, 473, 1750, 5, 7863, 5, 6, 1007, 351, 4, 51, 1074, 74, 45, 13, 242, 1, 10, 15, 1816, 153, 588, 5, 14, 16, 1168, 8190, 4, 67, 5, 3, 395, 6, 1010, 141, 26, 169, 6, 239, 199, 5, 59, 97, 32, 24, 322, 41, 49, 6632, 96, 4560, 4, 137, 60, 1, 346, 167, 12, 1586, 5, 11, 635, 395, 6, 1010, 26, 7, 662, 1, 11, 3887, 444, 4, 59, 1, 4940, 5, 4583, 69, 1486, 9, 53, 170, 450, 308, 2078, 5, 72, 395, 141, 11, 27, 101, 4, 13, 87, 1, 3, 888, 18, 3, 193, 15, 105, 395, 612, 11, 3, 22, 10, 612, 18, 1585, 5017, 245, 76, 44, 9, 1490, 86, 6, 102, 279, 9, 30, 612, 11, 8190, 2161, 11, 927, 4, 13, 242, 1, 10, 7, 53, 22, 18, 254, 1755, 9, 2066, 3, 3768, 6, 1, 61, 5219, 1409, 8, 3887, 444, 4, 21, 67, 5, 14, 22, 151, 28, 78, 8, 7, 118, 4]\n",
      "Decoded text: i rented i am [UNK] from my video store because of all the controversy that surrounded it when it was first released in 1967 . i also heard that at first it was [UNK] by u . s . customs if it ever tried to enter this country , therefore being a fan of films considered controversial i really had to see this for myself . the plot is centered around a young swedish drama student named lena who wants to learn everything she can about life . in particular she wants to focus her [UNK] to making some sort of documentary on what the average [UNK] thought about certain political issues such as the vietnam war and race issues in the united states . in between asking politicians and ordinary [UNK] of [UNK] about their opinions on politics , she has sex with her drama teacher , classmates , and married men . what kills me about i am [UNK] is that 40 years ago , this was considered pornographic . really , the sex and nudity scenes are few and far between , even then its not shot like some cheaply made porno . while my [UNK] mind find it shocking , in reality sex and nudity are a major [UNK] in swedish cinema . even [UNK] bergman , arguably their answer to good old boy john ford , had sex scenes in his films . i do [UNK] the filmmakers for the fact that any sex shown in the film is shown for artistic purposes rather than just to shock people and make money to be shown in pornographic theaters in america . i am [UNK] is a good film for anyone wanting to study the meat and [UNK] no pun intended of swedish cinema . but really , this film doesnt have much of a plot .\n",
      "\n",
      "Original text: i am curious yellow is a risible and pretentious steaming pile. it doesnt matter what ones political views are because this film can hardly be taken seriously on any level. as for the claim that frontal male nudity is an automatic nc17, that isnt true. ive seen rrated films with male nudity. granted, they only offer some fleeting views, but where are the rrated films with gaping vulvas and flapping labia? nowhere, because they dont exist. the same goes for those crappy cable shows schlongs swinging in the breeze but not a clitoris in sight. and those pretentious indie movies like the brown bunny, in which were treated to the site of vincent gallos throbbing johnson, but not a trace of pink visible on chloe sevigny. before crying or implying doublestandard in matters of nudity, the mentally obtuse should take into account one unavoidably obvious anatomical difference between men and women there are no genitals on display when actresses appears nude, and the same cannot be said for a man. in fact, you generally wont see female genitals in an american film in anything short of porn or explicit erotica. this alleged doublestandard is less a double standard than an admittedly depressing ability to come to terms culturally with the insides of womens bodies.\n",
      "Tokenized text (tokens): ['i', 'am', 'curious', 'yellow', 'is', 'a', '[UNK]', 'and', 'pretentious', 'steaming', 'pile', '.', 'it', 'doesnt', 'matter', 'what', 'ones', 'political', 'views', 'are', 'because', 'this', 'film', 'can', 'hardly', 'be', 'taken', 'seriously', 'on', 'any', 'level', '.', 'as', 'for', 'the', 'claim', 'that', 'frontal', 'male', 'nudity', 'is', 'an', 'automatic', '[UNK]', ',', 'that', 'isnt', 'true', '.', 'ive', 'seen', '[UNK]', 'films', 'with', 'male', 'nudity', '.', 'granted', ',', 'they', 'only', 'offer', 'some', 'fleeting', 'views', ',', 'but', 'where', 'are', 'the', '[UNK]', 'films', 'with', '[UNK]', '[UNK]', 'and', '[UNK]', '[UNK]', '?', 'nowhere', ',', 'because', 'they', 'dont', 'exist', '.', 'the', 'same', 'goes', 'for', 'those', 'crappy', 'cable', 'shows', '[UNK]', 'swinging', 'in', 'the', '[UNK]', 'but', 'not', 'a', '[UNK]', 'in', 'sight', '.', 'and', 'those', 'pretentious', 'indie', 'movies', 'like', 'the', 'brown', 'bunny', ',', 'in', 'which', 'were', 'treated', 'to', 'the', 'site', 'of', 'vincent', '[UNK]', '[UNK]', 'johnson', ',', 'but', 'not', 'a', 'trace', 'of', 'pink', 'visible', 'on', 'chloe', '[UNK]', '.', 'before', 'crying', 'or', '[UNK]', '[UNK]', 'in', 'matters', 'of', 'nudity', ',', 'the', 'mentally', '[UNK]', 'should', 'take', 'into', 'account', 'one', '[UNK]', 'obvious', '[UNK]', 'difference', 'between', 'men', 'and', 'women', 'there', 'are', 'no', '[UNK]', 'on', 'display', 'when', 'actresses', 'appears', 'nude', ',', 'and', 'the', 'same', 'cannot', 'be', 'said', 'for', 'a', 'man', '.', 'in', 'fact', ',', 'you', 'generally', 'wont', 'see', 'female', '[UNK]', 'in', 'an', 'american', 'film', 'in', 'anything', 'short', 'of', 'porn', 'or', 'explicit', '[UNK]', '.', 'this', 'alleged', '[UNK]', 'is', 'less', 'a', 'double', 'standard', 'than', 'an', 'admittedly', 'depressing', 'ability', 'to', 'come', 'to', 'terms', '[UNK]', 'with', 'the', '[UNK]', 'of', 'womens', 'bodies', '.']\n",
      "Tokenized text (IDs): [13, 242, 1979, 4427, 10, 7, 1, 6, 1916, 8673, 2459, 4, 12, 151, 557, 51, 519, 1011, 2686, 26, 89, 14, 22, 73, 964, 30, 617, 611, 23, 105, 669, 4, 17, 18, 3, 2254, 15, 7338, 939, 1010, 10, 36, 7982, 1, 5, 15, 213, 285, 4, 198, 112, 1, 101, 19, 939, 1010, 4, 2453, 5, 37, 66, 1433, 49, 8914, 2686, 5, 21, 120, 26, 3, 1, 101, 19, 1, 1, 6, 1, 1, 57, 1254, 5, 89, 37, 95, 1778, 4, 3, 172, 267, 18, 149, 2090, 1933, 268, 1, 7292, 11, 3, 1, 21, 24, 7, 1, 11, 1692, 4, 6, 149, 1916, 2814, 98, 41, 3, 2128, 5294, 5, 11, 65, 71, 1877, 9, 3, 2144, 8, 3192, 1, 1, 2825, 5, 21, 24, 7, 6801, 8, 4966, 4704, 23, 7999, 1, 4, 160, 2542, 43, 1, 1, 11, 2238, 8, 1010, 5, 3, 3031, 1, 145, 194, 85, 2655, 31, 1, 574, 1, 1437, 199, 351, 6, 367, 50, 26, 61, 1, 23, 2399, 55, 1587, 727, 2521, 5, 6, 3, 172, 561, 30, 298, 18, 7, 138, 4, 11, 193, 5, 25, 1201, 482, 70, 664, 1, 11, 36, 320, 22, 11, 231, 357, 8, 1548, 43, 3763, 1, 4, 14, 6619, 1, 10, 329, 7, 1695, 1284, 76, 36, 3372, 2208, 1229, 9, 214, 9, 1269, 1, 19, 3, 1, 8, 4618, 2298, 4]\n",
      "Decoded text: i am curious yellow is a [UNK] and pretentious steaming pile . it doesnt matter what ones political views are because this film can hardly be taken seriously on any level . as for the claim that frontal male nudity is an automatic [UNK] , that isnt true . ive seen [UNK] films with male nudity . granted , they only offer some fleeting views , but where are the [UNK] films with [UNK] [UNK] and [UNK] [UNK] ? nowhere , because they dont exist . the same goes for those crappy cable shows [UNK] swinging in the [UNK] but not a [UNK] in sight . and those pretentious indie movies like the brown bunny , in which were treated to the site of vincent [UNK] [UNK] johnson , but not a trace of pink visible on chloe [UNK] . before crying or [UNK] [UNK] in matters of nudity , the mentally [UNK] should take into account one [UNK] obvious [UNK] difference between men and women there are no [UNK] on display when actresses appears nude , and the same cannot be said for a man . in fact , you generally wont see female [UNK] in an american film in anything short of porn or explicit [UNK] . this alleged [UNK] is less a double standard than an admittedly depressing ability to come to terms [UNK] with the [UNK] of womens bodies .\n",
      "\n",
      "Original text: if only to avoid making this type of film in the future. this film is interesting as an experiment but tells no cogent story.one might feel virtuous for sitting thru it because it touches on so many important issues but it does so without any discernable motive. the viewer comes away with no new perspectives unless one comes up with one while ones mind wanders, as it will invariably do during this pointless film.one might better spend ones time staring out a window at a tree growing.\n",
      "Tokenized text (tokens): ['if', 'only', 'to', 'avoid', 'making', 'this', 'type', 'of', 'film', 'in', 'the', 'future', '.', 'this', 'film', 'is', 'interesting', 'as', 'an', 'experiment', 'but', 'tells', 'no', '[UNK]', 'story', '.', 'one', 'might', 'feel', '[UNK]', 'for', 'sitting', 'thru', 'it', 'because', 'it', 'touches', 'on', 'so', 'many', 'important', 'issues', 'but', 'it', 'does', 'so', 'without', 'any', '[UNK]', 'motive', '.', 'the', 'viewer', 'comes', 'away', 'with', 'no', 'new', 'perspectives', 'unless', 'one', 'comes', 'up', 'with', 'one', 'while', 'ones', 'mind', 'wanders', ',', 'as', 'it', 'will', '[UNK]', 'do', 'during', 'this', 'pointless', 'film', '.', 'one', 'might', 'better', 'spend', 'ones', 'time', 'staring', 'out', 'a', 'window', 'at', 'a', 'tree', 'growing', '.']\n",
      "Tokenized text (IDs): [46, 66, 9, 780, 252, 14, 600, 8, 22, 11, 3, 693, 4, 14, 22, 10, 219, 17, 36, 2813, 21, 701, 61, 1, 68, 4, 31, 237, 240, 1, 18, 1240, 4491, 12, 89, 12, 2407, 23, 40, 111, 681, 1314, 21, 12, 126, 40, 207, 105, 1, 6181, 4, 3, 517, 264, 244, 19, 61, 162, 8304, 893, 31, 264, 62, 19, 31, 137, 519, 346, 5978, 5, 17, 12, 82, 1, 87, 311, 14, 1135, 22, 4, 31, 237, 128, 1115, 519, 63, 4570, 48, 7, 2016, 34, 7, 3010, 1780, 4]\n",
      "Decoded text: if only to avoid making this type of film in the future . this film is interesting as an experiment but tells no [UNK] story . one might feel [UNK] for sitting thru it because it touches on so many important issues but it does so without any [UNK] motive . the viewer comes away with no new perspectives unless one comes up with one while ones mind wanders , as it will [UNK] do during this pointless film . one might better spend ones time staring out a window at a tree growing .\n",
      "\n",
      "Original text: this film was probably inspired by godards masculin, fminin and i urge you to see that film instead.the film has two strong elements and those are, 1 the realistic acting 2 the impressive, undeservedly good, photo. apart from that, what strikes me most is the endless stream of silliness. lena nyman has to be most annoying actress in the world. she acts so stupid and with all the nudity in this film,...its unattractive. comparing to godards film, intellectuality has been replaced with stupidity. without going too far on this subject, i would say that follows from the difference in ideals between the french and the swedish society.a movie of its time, and place. 210.\n",
      "Tokenized text (tokens): ['this', 'film', 'was', 'probably', 'inspired', 'by', '[UNK]', '[UNK]', ',', '[UNK]', 'and', 'i', 'urge', 'you', 'to', 'see', 'that', 'film', 'instead', '.', 'the', 'film', 'has', 'two', 'strong', 'elements', 'and', 'those', 'are', ',', '1', 'the', 'realistic', 'acting', '2', 'the', 'impressive', ',', '[UNK]', 'good', ',', 'photo', '.', 'apart', 'from', 'that', ',', 'what', 'strikes', 'me', 'most', 'is', 'the', 'endless', 'stream', 'of', 'silliness', '.', 'lena', '[UNK]', 'has', 'to', 'be', 'most', 'annoying', 'actress', 'in', 'the', 'world', '.', 'she', 'acts', 'so', 'stupid', 'and', 'with', 'all', 'the', 'nudity', 'in', 'this', 'film', ',...', 'its', 'unattractive', '.', 'comparing', 'to', '[UNK]', 'film', ',', '[UNK]', 'has', 'been', 'replaced', 'with', 'stupidity', '.', 'without', 'going', 'too', 'far', 'on', 'this', 'subject', ',', 'i', 'would', 'say', 'that', 'follows', 'from', 'the', 'difference', 'in', 'ideals', 'between', 'the', 'french', 'and', 'the', 'swedish', 'society', '.', 'a', 'movie', 'of', 'its', 'time', ',', 'and', 'place', '.', '210', '.']\n",
      "Tokenized text (IDs): [14, 22, 16, 241, 1622, 35, 1, 1, 5, 1, 6, 13, 4186, 25, 9, 70, 15, 22, 300, 4, 3, 22, 47, 110, 567, 776, 6, 149, 26, 5, 421, 3, 824, 117, 277, 3, 1141, 5, 1, 53, 5, 5268, 4, 957, 39, 15, 5, 51, 3331, 74, 94, 10, 3, 2140, 7183, 8, 5278, 4, 4641, 1, 47, 9, 30, 94, 613, 520, 11, 3, 188, 4, 58, 1401, 40, 373, 6, 19, 33, 3, 1010, 11, 14, 22, 8516, 32, 6285, 4, 4367, 9, 1, 22, 5, 1, 47, 80, 2924, 19, 2981, 4, 207, 171, 104, 239, 23, 14, 868, 5, 13, 64, 136, 15, 1147, 39, 3, 1437, 11, 7902, 199, 3, 790, 6, 3, 3887, 916, 4, 7, 20, 8, 32, 63, 5, 6, 272, 4, 3695, 4]\n",
      "Decoded text: this film was probably inspired by [UNK] [UNK] , [UNK] and i urge you to see that film instead . the film has two strong elements and those are , 1 the realistic acting 2 the impressive , [UNK] good , photo . apart from that , what strikes me most is the endless stream of silliness . lena [UNK] has to be most annoying actress in the world . she acts so stupid and with all the nudity in this film ,... its unattractive . comparing to [UNK] film , [UNK] has been replaced with stupidity . without going too far on this subject , i would say that follows from the difference in ideals between the french and the swedish society . a movie of its time , and place . 210 .\n",
      "\n",
      "Original text: oh, brother...after hearing about this ridiculous film for umpteen years all i can think of is that old peggy lee song..is that all there is?? ...i was just an early teen when this smoked fish hit the u.s. i was too young to get in the theater although i did manage to sneak into goodbye columbus. then a screening at a local film museum beckoned  finally i could see this film, except now i was as old as my parents were when they schlepped to see it!!the only reason this film was not condemned to the anonymous sands of time was because of the obscenity case sparked by its u.s. release. millions of people flocked to this stinker, thinking they were going to see a sex film...instead, they got lots of closeups of gnarly, repulsive swedes, onstreet interviews in bland shopping malls, asinie political pretension...and feeble whocares simulated sex scenes with saggy, pale actors.cultural icon, holy grail, historic artifact..whatever this thing was, shred it, burn it, then stuff the ashes in a lead box!elite esthetes still scrape to find value in its boring pseudo revolutionary political spewings..but if it werent for the censorship scandal, it would have been ignored, then forgotten.instead, the i am blank, blank rhythymed title was repeated endlessly for years as a titilation for porno films i am curious, lavender  for gay films, i am curious, black  for blaxploitation films, etc.. and every ten years or so the thing rises from the dead, to be viewed by a new generation of suckers who want to see that naughty sex film that revolutionized the film industry...yeesh, avoid like the plague..or if you must see it  rent the video and fast forward to the dirty parts, just to get it over with.\n",
      "Tokenized text (tokens): ['oh', ',', 'brother', '...', 'after', 'hearing', 'about', 'this', 'ridiculous', 'film', 'for', '[UNK]', 'years', 'all', 'i', 'can', 'think', 'of', 'is', 'that', 'old', 'peggy', 'lee', 'song', '..', 'is', 'that', 'all', 'there', 'is', '??', '...', 'i', 'was', 'just', 'an', 'early', 'teen', 'when', 'this', '[UNK]', 'fish', 'hit', 'the', 'u', '.', 's', '.', 'i', 'was', 'too', 'young', 'to', 'get', 'in', 'the', 'theater', 'although', 'i', 'did', 'manage', 'to', 'sneak', 'into', 'goodbye', '[UNK]', '.', 'then', 'a', 'screening', 'at', 'a', 'local', 'film', 'museum', '[UNK]', 'finally', 'i', 'could', 'see', 'this', 'film', ',', 'except', 'now', 'i', 'was', 'as', 'old', 'as', 'my', 'parents', 'were', 'when', 'they', '[UNK]', 'to', 'see', 'it', '!!', 'the', 'only', 'reason', 'this', 'film', 'was', 'not', 'condemned', 'to', 'the', 'anonymous', '[UNK]', 'of', 'time', 'was', 'because', 'of', 'the', '[UNK]', 'case', '[UNK]', 'by', 'its', 'u', '.', 's', '.', 'release', '.', 'millions', 'of', 'people', '[UNK]', 'to', 'this', 'stinker', ',', 'thinking', 'they', 'were', 'going', 'to', 'see', 'a', 'sex', 'film', '...', 'instead', ',', 'they', 'got', 'lots', 'of', 'closeups', 'of', '[UNK]', ',', 'repulsive', '[UNK]', ',', '[UNK]', 'interviews', 'in', 'bland', 'shopping', '[UNK]', ',', '[UNK]', 'political', '[UNK]', '...', 'and', 'feeble', '[UNK]', '[UNK]', 'sex', 'scenes', 'with', '[UNK]', ',', 'pale', 'actors', '.', 'cultural', 'icon', ',', 'holy', 'grail', ',', 'historic', '[UNK]', '..', 'whatever', 'this', 'thing', 'was', ',', 'shred', 'it', ',', 'burn', 'it', ',', 'then', 'stuff', 'the', '[UNK]', 'in', 'a', 'lead', 'box', '!', 'elite', '[UNK]', 'still', '[UNK]', 'to', 'find', 'value', 'in', 'its', 'boring', '[UNK]', 'revolutionary', 'political', '[UNK]', '..', 'but', 'if', 'it', 'werent', 'for', 'the', 'censorship', 'scandal', ',', 'it', 'would', 'have', 'been', 'ignored', ',', 'then', 'forgotten', '.', 'instead', ',', 'the', 'i', 'am', 'blank', ',', 'blank', '[UNK]', 'title', 'was', 'repeated', 'endlessly', 'for', 'years', 'as', 'a', '[UNK]', 'for', 'porno', 'films', 'i', 'am', 'curious', ',', '[UNK]', 'for', 'gay', 'films', ',', 'i', 'am', 'curious', ',', 'black', 'for', 'blaxploitation', 'films', ',', 'etc', '..', 'and', 'every', 'ten', 'years', 'or', 'so', 'the', 'thing', 'rises', 'from', 'the', 'dead', ',', 'to', 'be', 'viewed', 'by', 'a', 'new', 'generation', 'of', '[UNK]', 'who', 'want', 'to', 'see', 'that', 'naughty', 'sex', 'film', 'that', '[UNK]', 'the', 'film', 'industry', '...', '[UNK]', ',', 'avoid', 'like', 'the', 'plague', '..', 'or', 'if', 'you', 'must', 'see', 'it', 'rent', 'the', 'video', 'and', 'fast', 'forward', 'to', 'the', 'dirty', 'parts', ',', 'just', 'to', 'get', 'it', 'over', 'with', '.']\n",
      "Tokenized text (IDs): [452, 5, 603, 79, 106, 2179, 45, 14, 640, 22, 18, 1, 153, 33, 13, 73, 108, 8, 10, 15, 170, 8066, 847, 625, 380, 10, 15, 33, 50, 10, 1830, 79, 13, 16, 44, 36, 403, 1855, 55, 14, 1, 3182, 644, 3, 1242, 4, 826, 4, 13, 16, 104, 187, 9, 81, 11, 3, 741, 258, 13, 122, 1887, 9, 4973, 85, 5941, 1, 4, 97, 7, 2913, 34, 7, 702, 22, 4482, 1, 408, 13, 103, 70, 14, 22, 5, 547, 154, 13, 16, 17, 170, 17, 60, 786, 71, 55, 37, 1, 9, 70, 12, 569, 3, 66, 280, 14, 22, 16, 24, 8550, 9, 3, 9050, 1, 8, 63, 16, 89, 8, 3, 1, 415, 1, 35, 32, 1242, 4, 826, 4, 782, 4, 3118, 8, 86, 1, 9, 14, 4181, 5, 532, 37, 71, 171, 9, 70, 7, 395, 22, 79, 300, 5, 37, 190, 752, 8, 3542, 8, 1, 5, 6193, 1, 5, 1, 2960, 11, 1891, 5833, 1, 5, 1, 1011, 1, 79, 6, 6937, 1, 1, 395, 141, 19, 1, 5, 6337, 157, 4, 2812, 4905, 5, 3950, 9909, 5, 5811, 1, 380, 850, 14, 156, 16, 5, 7699, 12, 5, 3563, 12, 5, 97, 531, 3, 1, 11, 7, 485, 1021, 52, 5863, 1, 130, 1, 9, 167, 1112, 11, 32, 352, 1, 4254, 1011, 1, 380, 21, 46, 12, 1145, 18, 3, 8372, 9006, 5, 12, 64, 28, 80, 3655, 5, 97, 1580, 4, 300, 5, 3, 13, 242, 3778, 5, 3778, 1, 427, 16, 2422, 6240, 18, 153, 17, 7, 1, 18, 4560, 101, 13, 242, 1979, 5, 1, 18, 1006, 101, 5, 13, 242, 1979, 5, 331, 18, 9849, 101, 5, 515, 380, 6, 174, 760, 153, 43, 40, 3, 156, 5166, 39, 3, 362, 5, 9, 30, 2408, 35, 7, 162, 2251, 8, 1, 38, 183, 9, 70, 15, 5423, 395, 22, 15, 1, 3, 22, 1569, 79, 1, 5, 780, 41, 3, 3223, 380, 43, 46, 25, 226, 70, 12, 879, 3, 396, 6, 833, 982, 9, 3, 1630, 521, 5, 44, 9, 81, 12, 131, 19, 4]\n",
      "Decoded text: oh , brother ... after hearing about this ridiculous film for [UNK] years all i can think of is that old peggy lee song .. is that all there is ?? ... i was just an early teen when this [UNK] fish hit the u . s . i was too young to get in the theater although i did manage to sneak into goodbye [UNK] . then a screening at a local film museum [UNK] finally i could see this film , except now i was as old as my parents were when they [UNK] to see it !! the only reason this film was not condemned to the anonymous [UNK] of time was because of the [UNK] case [UNK] by its u . s . release . millions of people [UNK] to this stinker , thinking they were going to see a sex film ... instead , they got lots of closeups of [UNK] , repulsive [UNK] , [UNK] interviews in bland shopping [UNK] , [UNK] political [UNK] ... and feeble [UNK] [UNK] sex scenes with [UNK] , pale actors . cultural icon , holy grail , historic [UNK] .. whatever this thing was , shred it , burn it , then stuff the [UNK] in a lead box ! elite [UNK] still [UNK] to find value in its boring [UNK] revolutionary political [UNK] .. but if it werent for the censorship scandal , it would have been ignored , then forgotten . instead , the i am blank , blank [UNK] title was repeated endlessly for years as a [UNK] for porno films i am curious , [UNK] for gay films , i am curious , black for blaxploitation films , etc .. and every ten years or so the thing rises from the dead , to be viewed by a new generation of [UNK] who want to see that naughty sex film that [UNK] the film industry ... [UNK] , avoid like the plague .. or if you must see it rent the video and fast forward to the dirty parts , just to get it over with .\n",
      "\n"
     ]
    }
   ],
   "source": [
    "for idx in range(5):\n",
    "    example = dataset_train[idx]\n",
    "    original_text = example[\"text\"]\n",
    "    tokenized_text = tokenizer.encode(example[\"text\"])\n",
    "    decoded_text = tokenizer.decode(tokenized_text.ids, skip_special_tokens=False)\n",
    "\n",
    "    print(f\"Original text: {original_text}\")\n",
    "    print(f\"Tokenized text (tokens): {tokenized_text.tokens}\")\n",
    "    print(f\"Tokenized text (IDs): {tokenized_text.ids}\")\n",
    "    print(f\"Decoded text: {decoded_text}\")\n",
    "    print()"
   ]
  },
  {
   "cell_type": "markdown",
   "metadata": {},
   "source": [
    "We plot the distribution of the sequence lengths in the training set. Later, we can use this to determine the maximum sequence length to use."
   ]
  },
  {
   "cell_type": "code",
   "execution_count": 6,
   "metadata": {},
   "outputs": [
    {
     "data": {
      "image/png": "[encoded data removed]",
      "text/plain": [
       "<Figure size 1000x400 with 1 Axes>"
      ]
     },
     "metadata": {},
     "output_type": "display_data"
    }
   ],
   "source": [
    "# Histogram of token lengths\n",
    "token_lengths = [len(tokenizer.encode(text).ids) for text in dataset_train[\"text\"]]\n",
    "median_length = np.median(token_lengths)\n",
    "\n",
    "fig, ax = plt.subplots(figsize=(10, 4))\n",
    "ax.hist(token_lengths, bins=50, color=\"black\")\n",
    "ax.set_xticks(np.arange(0, np.max(token_lengths) + 1, 100))\n",
    "ax.tick_params(axis=\"x\", labelrotation=45)\n",
    "ax.set_xlabel(\"Number of tokens in sequence\")\n",
    "ax.set_ylabel(\"Frequency\")\n",
    "ax.axvline(median_length, color=\"red\", linestyle=\"--\", label=f\"Median length: {median_length}\")\n",
    "ax.legend()\n",
    "fig.suptitle(\"Histogram of token lengths\")\n",
    "fig.tight_layout()\n",
    "plt.show()"
   ]
  },
  {
   "cell_type": "markdown",
   "metadata": {},
   "source": [
    "### 1.4 Dataset and Data Loaders\n",
    "\n",
    "To deal with sequences of different lengths, we implement a simple `IMDBDataset` class that pads the sequences to the same length using the `[PAD]` token, or truncates them if they exceed the maximum sequence length. We also prepend the `[CLS]` token to the input sequences."
   ]
  },
  {
   "cell_type": "code",
   "execution_count": 7,
   "metadata": {},
   "outputs": [],
   "source": [
    "class IMDBDataset(Dataset):\n",
    "    def __init__(self, texts, labels, tokenizer, max_length, pad_idx, cls_idx):\n",
    "        self.texts = texts\n",
    "        self.labels = labels\n",
    "        self.tokenizer = tokenizer\n",
    "        self.max_length = max_length\n",
    "        self.pad_idx = pad_idx\n",
    "        self.cls_idx = cls_idx\n",
    "    \n",
    "    def __len__(self):\n",
    "        return len(self.texts)\n",
    "    \n",
    "    def __getitem__(self, idx):\n",
    "        ############################################\n",
    "        # Inspiration from: Exercise 5 - LSTM      #\n",
    "        ############################################\n",
    "        \n",
    "        # Retrieve the label to the specific index:\n",
    "        curr_label = self.labels[idx]\n",
    "\n",
    "        # Retrieve and tokenize the texts of the specific index:\n",
    "        curr_text_tokens = self.tokenizer.encode(self.texts[idx]).ids\n",
    "\n",
    "        # Start with cls token and only retrieve max length \n",
    "        # and pad the rest with padding token, or truncate:\n",
    "        curr_text_tokens = [self.cls_idx] + curr_text_tokens[:self.max_length-1] + ([self.pad_idx]* max(0, (self.max_length-1) - len(curr_text_tokens)))\n",
    "        \n",
    "        return torch.tensor(curr_text_tokens), torch.tensor(curr_label)"
   ]
  },
  {
   "cell_type": "markdown",
   "metadata": {},
   "source": [
    "We create some constants:\n",
    "\n",
    "- `MAX_LENGTH`: the maximum sequence length\n",
    "- `PAD_ID`: the ID of the `[PAD]` token\n",
    "- `CLS_ID`: the ID of the `[CLS]` token\n",
    "- `BATCH_SIZE`: the batch size\n",
    "- `NUM_WORKERS`: the number of workers for data loading (set this to 0 if you are encountering issues with the DataLoader)\n",
    "\n",
    "We also create the training and testing datasets and data loaders."
   ]
  },
  {
   "cell_type": "code",
   "execution_count": 8,
   "metadata": {},
   "outputs": [],
   "source": [
    "# Constants\n",
    "MAX_LENGTH = 256\n",
    "PAD_ID = tokenizer.token_to_id(PAD_TOKEN)\n",
    "CLS_ID = tokenizer.token_to_id(CLS_TOKEN)\n",
    "BATCH_SIZE = 64\n",
    "NUM_WORKERS = 0 # Set to 0 as I am encountering issues with the dataloader in jupyter notebook\n",
    "\n",
    "# Dataset instances\n",
    "train_dataset = IMDBDataset(dataset_train[\"text\"], dataset_train[\"label\"], tokenizer, MAX_LENGTH, PAD_ID, CLS_ID)\n",
    "val_dataset = IMDBDataset(dataset_val[\"text\"], dataset_val[\"label\"], tokenizer, MAX_LENGTH, PAD_ID, CLS_ID)\n",
    "test_dataset = IMDBDataset(dataset_test[\"text\"], dataset_test[\"label\"], tokenizer, MAX_LENGTH, PAD_ID, CLS_ID)\n",
    "\n",
    "# Data loaders\n",
    "train_loader = DataLoader(train_dataset, batch_size=BATCH_SIZE, shuffle=True, num_workers=NUM_WORKERS, generator=torch.Generator().manual_seed(SEED))\n",
    "val_loader = DataLoader(val_dataset, batch_size=BATCH_SIZE, shuffle=False, num_workers=NUM_WORKERS)\n",
    "test_loader = DataLoader(test_dataset, batch_size=BATCH_SIZE, shuffle=False, num_workers=NUM_WORKERS)"
   ]
  },
  {
   "cell_type": "markdown",
   "metadata": {},
   "source": [
    "## 2. Model"
   ]
  },
  {
   "cell_type": "markdown",
   "metadata": {},
   "source": [
    "### 2.1 Training Loop\n",
    "\n",
    "We define a simple train function that takes `model` and trains it for `num_epochs` on `train_loader`. We give the `criterion` (loss function) and `optimizer` as arguments to the function. The train function also needs to know `pad_id`, the ID of the `[PAD]` token so we can generate the attention mask making sure the model does not attend to the padding tokens. After each epoch, we evaluate the model on `val_loader`."
   ]
  },
  {
   "cell_type": "code",
   "execution_count": null,
   "metadata": {},
   "outputs": [],
   "source": [
    "def create_mask(sequences, pad_id):\n",
    "    \"\"\"\n",
    "    Input shape of token sequences: (batch_size, seq_length)\n",
    "    Output shape: (batch_size, seq_length) boolean mask with True where the padding tokens are located\n",
    "    \"\"\"\n",
    "    #################################################\n",
    "    # Little help from ChatGPT to understand tensor # \n",
    "    # comparison in PyTorch                         #\n",
    "    #################################################\n",
    "    return sequences == pad_id\n",
    "\n",
    "def train_model(model, criterion, optimizer, train_loader, val_loader, num_epochs, pad_id):\n",
    "    for epoch in range(num_epochs):\n",
    "        model.train()\n",
    "        train_losses = []\n",
    "        correct, total = 0, 0\n",
    "        for sequences, labels in (pbar := tqdm(train_loader)):\n",
    "            labels = labels.float()\n",
    "            optimizer.zero_grad()\n",
    "            attention_mask = create_mask(sequences, pad_id)\n",
    "            outputs = model(sequences, mask=attention_mask)\n",
    "            loss = criterion(outputs, labels)\n",
    "            loss.backward()\n",
    "            torch.nn.utils.clip_grad_norm_(model.parameters(), max_norm=10.0)  # Clip gradients for stability\n",
    "            optimizer.step()\n",
    "            train_losses.append(loss.item())\n",
    "            correct += ((outputs > 0.5) == labels).sum().item()\n",
    "            total += labels.size(0)\n",
    "            pbar.set_description(f\"Epoch {epoch+1}, Train Loss: {np.mean(train_losses):.4f}, Train Acc.: {correct / total:.4f}\")\n",
    "\n",
    "        # Validation\n",
    "        model.eval()\n",
    "        val_losses = []\n",
    "        correct, total = 0, 0\n",
    "        with torch.no_grad():\n",
    "            for sequences, labels in tqdm(val_loader):\n",
    "                labels = labels.float()\n",
    "                attention_mask = create_mask(sequences, pad_id)\n",
    "                outputs = model(sequences, mask=attention_mask)\n",
    "                loss = criterion(outputs, labels)\n",
    "                val_losses.append(loss.item())\n",
    "                correct += ((outputs > 0.5) == labels).sum().item()\n",
    "                total += labels.size(0)\n",
    "        print(f\"Epoch {epoch+1}, Val Loss: {np.mean(val_losses):.4f}, Val Acc.: {correct / total:.4f}\")\n"
   ]
  },
  {
   "cell_type": "markdown",
   "metadata": {},
   "source": [
    "### 2.2 Multi-Head Attention\n",
    "\n",
    "We implement the multi-head attention mechanism. The multi-head attention mechanism consists of `num_heads` independent attention mechanisms. We concatenate the outputs of the different heads and project them back to the model's dimension. We use the scaled dot-product attention mechanism."
   ]
  },
  {
   "cell_type": "code",
   "execution_count": 10,
   "metadata": {},
   "outputs": [],
   "source": [
    "class MultiheadAttention(nn.Module):\n",
    "    def __init__(self, dim, num_heads):\n",
    "        \"\"\"\n",
    "        Multihead attention module.\n",
    "        Args:\n",
    "            dim: Dimension of the input vectors\n",
    "            num_heads: Number of attention heads\n",
    "            dropout: Dropout rate for attention scores (default: 0.1)\n",
    "        \"\"\"\n",
    "        super().__init__()\n",
    "        self.dim = dim\n",
    "        self.num_heads = num_heads\n",
    "\n",
    "        assert dim % num_heads == 0, f\"Dimension {dim} must be divisible by num_heads {num_heads}\"\n",
    "\n",
    "        self.head_dim = dim // num_heads\n",
    "\n",
    "        # Linear transformations for query, key, and value\n",
    "        self.query = nn.Linear(dim, dim)\n",
    "        self.key = nn.Linear(dim, dim)\n",
    "        self.value = nn.Linear(dim, dim)\n",
    "\n",
    "        # Output linear transformation\n",
    "        self.out_proj = nn.Linear(dim, dim)\n",
    "\n",
    "    def forward(self, query, key, value, key_padding_mask):\n",
    "        #################################################################################\n",
    "        # Inspiration from ChatGPT and https://datascience.stackexchange.com/questions/ #\n",
    "        # 80660/splitting-into-multiple-heads-multihead-self-attention                  #\n",
    "        # on understanding the dimensionalities and matrix operations                   #\n",
    "        #                                                                               #\n",
    "        # Inspiration from 1.2 Tips in project on mask                                  #\n",
    "        #################################################################################\n",
    "\n",
    "        # Own explanation to understand:\n",
    "        # ------------------------------\n",
    "        # Multi head attention divides the dimensionality of each token at\n",
    "        # num_heads-number of heads. Where as regularly, you have a batch\n",
    "        # of sequences f.ex. [b * l * dim] where b is the batch size, l is\n",
    "        # the length of the sequence and dimensionality is the dimensionality\n",
    "        # of feature length of each token in the sequence. In mulithead attention,\n",
    "        # we divide the feature length between multiple heads. Lets say we \n",
    "        # split in 3 heads and have 300 features in total, then head 1 will\n",
    "        # have feature 1-100 head 2 will have feature 101 - 200, and head 3\n",
    "        # feature 201 - 300.\n",
    "        \n",
    "        # Curr dimensionality = b * l * dim\n",
    "        Q = self.query(query)\n",
    "        K = self.key(key)\n",
    "        V = self.value(value)\n",
    "\n",
    "        # Reshape the tensors to match the dim b * h * l * d/h via \n",
    "        # splitting dim into num_heads and head_dim. Furhtermore, transpose\n",
    "        # to reorder.\n",
    "        Q = Q.view(Q.shape[0], Q.shape[1], self.num_heads, self.head_dim).transpose(1, 2)\n",
    "        K = K.view(K.shape[0], K.shape[1], self.num_heads, self.head_dim).transpose(1, 2)\n",
    "        V = V.view(V.shape[0], V.shape[1], self.num_heads, self.head_dim).transpose(1, 2)\n",
    "\n",
    "        # Start the Scaled Dot-Product Attention calculation\n",
    "        # 1. Retrieve scores\n",
    "        product = torch.matmul(Q, K.transpose(2, 3)) / (self.head_dim**0.5)\n",
    "\n",
    "        # 2. Append key_padding_mask if any \n",
    "        if key_padding_mask is not None:\n",
    "            mask = key_padding_mask.unsqueeze(1).unsqueeze(2)  # Add new dimensions to match product\n",
    "            product = product.masked_fill(mask, float('-inf')) # Set padding to -inf so softmax turns to 0 prob\n",
    "\n",
    "        # 3. Apply Softmax\n",
    "        product = torch.nn.functional.softmax(product, dim=-1)\n",
    "\n",
    "        # 4. Multiply the product with V\n",
    "        product = torch.matmul(product, V)\n",
    "\n",
    "        # 5. Reshape dimensionality back to [b, l, d] from [b, h, l, d/h]\n",
    "        product = product.transpose(1, 2)\n",
    "        product = product.reshape(product.shape[0], product.shape[1], (product.shape[2] *product.shape[3]))\n",
    "\n",
    "        # 6. Return the projected output\n",
    "        return self.out_proj(product)"
   ]
  },
  {
   "cell_type": "markdown",
   "metadata": {},
   "source": [
    "### 2.3 Encoder Block\n",
    "\n",
    "We implement the encoder block, which consists of our multi-head attention layer followed by a feedforward neural network. We also add residual connections and layer normalizations as specified in the project description."
   ]
  },
  {
   "cell_type": "code",
   "execution_count": 11,
   "metadata": {},
   "outputs": [],
   "source": [
    "class EncoderBlock(nn.Module):\n",
    "    '''\n",
    "    Class functioning as an encoder block following\n",
    "    figure 2 in Project 3 description.\n",
    "\n",
    "    Parameters:\n",
    "    - dim (Int): Number of dimensions\n",
    "    - num_heads (Int): Number of heads\n",
    "    - dropout (Float): Dropout constant\n",
    "    '''\n",
    "    def __init__(self, dim, num_heads, dropout=0.1):\n",
    "        ####################################################\n",
    "        # Inspiration from ChatGPT for layer normalization # \n",
    "        # and code clarity                                 #\n",
    "        ####################################################\n",
    "        super().__init__()\n",
    "\n",
    "        # Initalizing values\n",
    "        self.dim = dim\n",
    "        self.num_heads = num_heads\n",
    "        self.own_multihead_attention = MultiheadAttention(dim, num_heads)\n",
    "\n",
    "        # The dimensionality should be divisble by number of heads\n",
    "        assert dim % num_heads == 0, f\"Dimension {dim} must be divisible by num_heads {num_heads}\"\n",
    "\n",
    "        # Layer normalization\n",
    "        self.layer_normalization_1 = nn.LayerNorm(dim)\n",
    "        self.layer_normalization_2 = nn.LayerNorm(dim)\n",
    "\n",
    "        # Dropout\n",
    "        self.dropout_1 = nn.Dropout(p=dropout)\n",
    "        self.dropout_2 = nn.Dropout(p=dropout)\n",
    "\n",
    "        # Defining the MLP block\n",
    "        self.MLP_block = nn.Sequential(\n",
    "            nn.Linear(dim, 4*dim),\n",
    "            nn.GELU(),\n",
    "            nn.Dropout(p=dropout),\n",
    "            nn.Linear(4*dim, dim),\n",
    "            nn.Dropout(p=dropout)\n",
    "        )\n",
    "    \n",
    "\n",
    "    def forward(self, x, mask=None):\n",
    "        '''Perform one forward pass through encoder'''\n",
    "        # Part 1: Multihead Attention\n",
    "        residual_1 = x\n",
    "        x = self.layer_normalization_1(x)\n",
    "        x = self.own_multihead_attention(x, x, x, mask)\n",
    "        x = self.dropout_1(x)\n",
    "        x += residual_1\n",
    "\n",
    "        # Part 2: Feed forward through MLP\n",
    "        residual_2 = x\n",
    "        x = self.layer_normalization_2(x)\n",
    "        x = self.MLP_block(x)\n",
    "        x = self.dropout_2(x)\n",
    "        x += residual_2\n",
    "        \n",
    "        return x"
   ]
  },
  {
   "cell_type": "markdown",
   "metadata": {},
   "source": [
    "### 2.4 Model Specification\n",
    "\n",
    "We specify our classifier model, which consists of an embedding layer, followed by `num_layers` encoder blocks. We use a linear layer to project the output of the last encoder block and apply sigmoid activation to get the final output.\n",
    "\n",
    "We also define the positional encoding, which is added to the input embeddings to give the model information about the position of the tokens in the sequence.\n",
    "\n",
    "\n",
    "$$PE_{(pos, 2i)}=\\sin(\\frac{pos}{10000^{\\frac{2i}{embed\\_size}}})$$\n",
    "\n",
    "$$PE_{(pos, 2i+1)}=\\cos(\\frac{pos}{10000^{\\frac{2i}{embed\\_size}}})$$"
   ]
  },
  {
   "cell_type": "code",
   "execution_count": 12,
   "metadata": {},
   "outputs": [],
   "source": [
    "class PositionalEncoding(nn.Module):\n",
    "    \"\"\"\n",
    "    Positional encoding module: adds positional information to the input embeddings.\n",
    "    \"\"\"\n",
    "    def __init__(self, embed_size, max_len):\n",
    "        super().__init__()\n",
    "        ####################################################\n",
    "        # Inspiration from Attention Is All You Need paper #\n",
    "        # and some help for implementation from ChatGPT    # \n",
    "        ####################################################\n",
    "\n",
    "        # Initialize tensor to hold positional encodings:\n",
    "        positional_enc = torch.ones(max_len, embed_size)\n",
    "\n",
    "        # Arange numbers for each position, and make 2d so \n",
    "        # pytorch can multiply\n",
    "        positions = torch.arange(0, max_len).unsqueeze(1)\n",
    "\n",
    "        # Arange the term the position is going to be divided by\n",
    "        division_term = torch.exp(torch.arange(0, embed_size, 2) * (-np.log(10000.0) / embed_size))\n",
    "        \n",
    "        # Sine for even indices (positions times the division term yields the pos/10000^...)\n",
    "        positional_enc[:, 0::2] = torch.sin(positions * division_term)\n",
    "\n",
    "        # Cosine for odd indices (--||--)\n",
    "        positional_enc[:, 1::2] = torch.cos(positions * division_term)\n",
    "\n",
    "        # Unsqueeze to make it compatible with batches\n",
    "        self.register_buffer('positional_enc', positional_enc.unsqueeze(0))\n",
    "\n",
    "    def forward(self, x):\n",
    "        # Forward pass, apply same encoding to each batch\n",
    "        return x + self.positional_enc[:, :x.size(1), :]\n",
    "\n",
    "\n",
    "class SentimentTransformer(nn.Module):\n",
    "    def __init__(self, vocab_size, max_len, embedding_dim, num_heads, num_layers, pad_idx, dropout=0.1):\n",
    "        super().__init__()\n",
    "        self.embedding = nn.Embedding(vocab_size, embedding_dim, padding_idx=pad_idx)\n",
    "        self.pos_encoder = PositionalEncoding(embedding_dim, max_len)\n",
    "        \n",
    "        self.encoder = nn.ModuleList([EncoderBlock(embedding_dim, num_heads, dropout) for _ in range(num_layers)])\n",
    "\n",
    "        self.fc = nn.Linear(embedding_dim, 1)  # Output layer\n",
    "        self.sigmoid = nn.Sigmoid()\n",
    "    \n",
    "    def forward(self, x, mask=None):\n",
    "        x = self.embedding(x)  # Shape: (batch_size, seq_len, embedding_dim)\n",
    "        x = self.pos_encoder(x)  # Add positional encodings\n",
    "\n",
    "        for encoder in self.encoder:\n",
    "            x = encoder(x, mask=mask)\n",
    "\n",
    "        x = x[:, 0, :]  # Take the first token's embedding (CLS token equivalent)\n",
    "\n",
    "        return self.sigmoid(self.fc(x)).squeeze()"
   ]
  },
  {
   "cell_type": "markdown",
   "metadata": {},
   "source": [
    "### 2.5 Training the Model\n",
    "\n",
    "We can now train the model. It is recommended that you use the parameters provided in the cell below as they should work pretty good without requiring too much computational power.\n",
    "\n",
    "Train the model for (at least) 3 epochs. Each epoch should take around 7 to 12 minutes on a modern CPU. If you are training on a laptop, make sure it is plugged in. Moreover, closing all other applications can also help. Take a well-deserved break while the model trains.\n",
    "\n",
    "If you struggle with extremely long training times, you can do one or more of the following to speed up training:\n",
    "\n",
    "- Increase `MIN_FREQUENCY` and re-train the tokenizer to reduce the vocabulary size.\n",
    "- Use a subset of the training data.\n",
    "- Reduce the number of epochs.\n",
    "- Reduce the maximum sequence length.\n",
    "- Experiment with `NUM_WORKERS` in the data loaders (optimal value is system-dependent).\n",
    "- If you have a GPU, modify the training function above to use it.\n",
    "\n",
    "Expect to observe a training accuracy above `0.60` halfway through the first epoch."
   ]
  },
  {
   "cell_type": "code",
   "execution_count": 13,
   "metadata": {},
   "outputs": [
    {
     "name": "stdout",
     "output_type": "stream",
     "text": [
      "Number of parameters: 1295617\n"
     ]
    },
    {
     "name": "stderr",
     "output_type": "stream",
     "text": [
      "Epoch 1, Train Loss: 0.5438, Train Acc.: 0.7056: 100%|█| 391/391 [03:17<00:00,  \n",
      "100%|███████████████████████████████████████████| 79/79 [00:13<00:00,  5.87it/s]\n"
     ]
    },
    {
     "name": "stdout",
     "output_type": "stream",
     "text": [
      "Epoch 1, Val Loss: 0.4109, Val Acc.: 0.8104\n"
     ]
    },
    {
     "name": "stderr",
     "output_type": "stream",
     "text": [
      "Epoch 2, Train Loss: 0.3673, Train Acc.: 0.8400: 100%|█| 391/391 [03:17<00:00,  \n",
      "100%|███████████████████████████████████████████| 79/79 [00:13<00:00,  5.92it/s]\n"
     ]
    },
    {
     "name": "stdout",
     "output_type": "stream",
     "text": [
      "Epoch 2, Val Loss: 0.3746, Val Acc.: 0.8326\n"
     ]
    },
    {
     "name": "stderr",
     "output_type": "stream",
     "text": [
      "Epoch 3, Train Loss: 0.2960, Train Acc.: 0.8753: 100%|█| 391/391 [03:16<00:00,  \n",
      "100%|███████████████████████████████████████████| 79/79 [00:13<00:00,  5.97it/s]"
     ]
    },
    {
     "name": "stdout",
     "output_type": "stream",
     "text": [
      "Epoch 3, Val Loss: 0.3590, Val Acc.: 0.8494\n"
     ]
    },
    {
     "name": "stderr",
     "output_type": "stream",
     "text": [
      "\n"
     ]
    }
   ],
   "source": [
    "NUM_EPOCHS = 3\n",
    "LR = 1e-3\n",
    "WEIGHT_DECAY = 1e-3\n",
    "EMBEDDING_DIM = 96\n",
    "NUM_HEADS = 4\n",
    "NUM_LAYERS = 3\n",
    "\n",
    "model = SentimentTransformer(vocab_size=VOCAB_SIZE, \n",
    "                             max_len=MAX_LENGTH,\n",
    "                             embedding_dim=EMBEDDING_DIM, \n",
    "                             num_heads=NUM_HEADS, \n",
    "                             num_layers=NUM_LAYERS, \n",
    "                             pad_idx=PAD_ID)\n",
    "\n",
    "criterion = nn.BCELoss() # Model output should have sigmoid applied!\n",
    "optimizer = optim.AdamW(model.parameters(), lr=LR, weight_decay=WEIGHT_DECAY)\n",
    "\n",
    "n_params = sum(p.numel() for p in model.parameters())\n",
    "print(f\"Number of parameters: {n_params}\")\n",
    "\n",
    "train_model(model=model,\n",
    "            criterion=criterion,\n",
    "            optimizer=optimizer,\n",
    "            train_loader=train_loader,\n",
    "            val_loader=val_loader,\n",
    "            num_epochs=NUM_EPOCHS,\n",
    "            pad_id=PAD_ID)"
   ]
  },
  {
   "cell_type": "markdown",
   "metadata": {},
   "source": [
    "### 2.6 Evaluating the Model on Unseen Data\n",
    "\n",
    "We evaluate the model on the test set and print the test accuracy."
   ]
  },
  {
   "cell_type": "code",
   "execution_count": 14,
   "metadata": {},
   "outputs": [
    {
     "name": "stderr",
     "output_type": "stream",
     "text": [
      "100%|█████████████████████████████████████████| 313/313 [00:52<00:00,  5.91it/s]"
     ]
    },
    {
     "name": "stdout",
     "output_type": "stream",
     "text": [
      "Accuracy (test): 0.8415\n"
     ]
    },
    {
     "name": "stderr",
     "output_type": "stream",
     "text": [
      "\n"
     ]
    },
    {
     "data": {
      "image/png": "[encoded data removed]",
      "text/plain": [
       "<Figure size 640x480 with 2 Axes>"
      ]
     },
     "metadata": {},
     "output_type": "display_data"
    },
    {
     "name": "stdout",
     "output_type": "stream",
     "text": [
      "MISCLASSIFIED REVIEWS:\n",
      "-----------------------\n",
      "\n",
      "Misclassification nr.1:\n",
      "\n",
      "True label: 0 --> Negative Review\n",
      "Predicted label: 1 --> Positive Review\n",
      "\n",
      "Actual review: i watched this film with a bunch of friends at a halloween party last night. i got to say that the sarcastic comments were never ending and i have to say that they were well deserved. though i felt that the directing was done well, the craziness in their dialogue is just a little too much cheese. i think i got about an hour into this before i even started to realize what it was the point was that they were trying to drive home. you catch on pretty quick that this whole family is pretty quirky and something is off about them, its just a little too slow. this movie could easily have been about 45 minutes and been a lot better. the only thing that made it bearable was the two bottles of wine that i downed during the course of the flick. bring on the slasher films folks, because at least i know what to expect out of them. this was not my thing, too much dark humour, and the subject material of cannibalism was a bit explicit and gross. i have to say that randy quaid played the part as well as it could have been, and i will give him props for that as i normally see him as a drunken goofball or a washed out fighter pilot who likes to kill aliens.in conclusion i give this horrorcomedy film a very generous 3 out of 10.\n",
      "\n",
      "\n",
      "\n",
      "Misclassification nr.2:\n",
      "\n",
      "True label: 0 --> Negative Review\n",
      "Predicted label: 1 --> Positive Review\n",
      "\n",
      "Actual review: based on the comments made so far, everyone seems to either hate this movie or love it. i think it would be fair to point out that although this is not a great movie, it has its interesting moments. for one thing, it was filmed on location in colorado was it breckinridge or telluride? i cant remember, but it is in the credits. the location is absolutely stunning and spectacular. its beautiful, even to me who lived in colorado for several years.next, it has disneys penchant for wonderful character actors. harry morgan has never been in better form than when he plays in a disney movie. he is literally hysterical. also, remember the wonderful mary wickes? although she has a bit part in this movie, she is great, as always. if you dont know who she is, think of the animated disney version of hunchback from notre dame she was one of the gargoyles, and she was also the most interesting nun in sister act, as well as the best nun in the trouble with angels. she has always been a great character actress and most character actors never receive the recognition they deserve.in addition to character actors and allstar casts, in the 1960s1970s disney may have not had the greatest movies, but, if you really watch some of them from beginning to end, you will notice that every movie has some really funny or hysterical moment in it. the entire movie may not be funny, but there is always a comic gem at least 1 or 2 in every single liveaction movie disney ever made. whether its harry morgan in one of his bellowing tones of voice, or tim conway floundering around, or joe flynn giving one of his priceless looks of horror, it is all good. the whole film may not be good, but there are always hysterical moments in every disney film from this period that i have ever seen. disney in this time period always managed to make a person smile, despite the dumbness of the film.bsed on these comments, i disagree with viewers who say every disney movie in this time period is awful. that statement it not quite accurate. rather, it is easier for me to give credit to the funny moments and overlook the weaknesses in the plots.some liveaction disney movies are true classics old yeller, bedknobs and broomsticks, mary poppins, but for those that arent, i am able to appreciate them for what they were  good clean family fun in a time when movies had become vulgar, crude and offensive.\n",
      "\n",
      "\n",
      "\n",
      "Misclassification nr.3:\n",
      "\n",
      "True label: 0 --> Negative Review\n",
      "Predicted label: 1 --> Positive Review\n",
      "\n",
      "Actual review: two years after this short, the last our gang short was made. after seeing this, you wonder how it even lasted that much longer. the quality of our gang nosedived soon after moving from hal roach to mgm, and this short is a perfect example. the gags are all very unfunny and froggys last line of this being the happiest day of his life paints a bad picture in your mind of what its like for him the rest of the time. a very poor example of film making.\n",
      "\n",
      "\n",
      "\n",
      "Misclassification nr.4:\n",
      "\n",
      "True label: 0 --> Negative Review\n",
      "Predicted label: 1 --> Positive Review\n",
      "\n",
      "Actual review: in the mid1970s, my nyc apt. building was finally wired for cabletv and since showtime instead of hbo was the only premium channel offered showing recent movies, i signed up for it. being a writer and nightowl by nature, i soon discovered the channel was showing movies late at night and until the wee hours of the morning id never even heard ofmost of them american independent films and foreign films that had never been given a u.s. theatrical release. many of them had recognizable star casts and respectable directors, and thanks to showtime, i discovered many firstrate films i and other showtime subscribers would never else have had the opportunity to see. most of these cinematic mongrels were indeed dogs but often so bad they were unintentionally hilarious. one night, showtime unveiled a little italianmade gem called redneck filmed in 1972, given a limited european release in 1973. even though the movie had never been released in the u.s., the mpaa rating was listed as an r. since the director was one sylvio narizzano the director who made his name with the glorious georgy girl, and the three leads were mark oliver lester, fabio testi and telly savalas, i decided to give it a try. and found myself nailed to my tv screen in disbelief for 89 minutes. as i recall, savalas and testi played two criminals, the former a raging maniac who, in one stomachchurning scene, casually sent a german family to their deaths by nudging their trailer off a cliff, thereby plunging to the wilderness depths below. so far, so bad. then, out of nowhere, testi as the nice psycho and lester all of 14 when the movie was made are seen, both nude, in a mens room, testi sneaking peeks at the kids body while shaving, and poor confused lester fixated on closeups of testis naked butt. as a notyetjaded member of the movie industry, and a cardcarrying liberal i was as much against censorship then as i am today, the entire movie made me queasy and, being the early 70s when i thoughtid seen everything in the anythinggoes movies of that liberated eraincluding the uncut version of altmans that cold day in the park, a real jawdropper until it was trimmed for an r rating and would have spelled the end for altmans career had he not next come up with something called mash, i still wonder if anyone else except me ever saw redneck and was appalled as i was. trashing the actors and moviegoing audiences is joy maladjusted filmmakers have been merrily indulging in since the beginning of time. but leeringly exploiting a highly respected and talented child actor mr. lester at a time when he was beginning to make the difficult transaction from child to adult actor and im sure his film offers had thereby dwindled to meretricious junk like redneck...mr. narizzano, you should be hanging your head in shame. incidentally, i was soon to make friends with actors who had appeared in narizzanos future, undistinguished efforts. they both despised him. surprise?\n",
      "\n",
      "\n",
      "\n",
      "Misclassification nr.5:\n",
      "\n",
      "True label: 1 --> Positive Review\n",
      "Predicted label: 0 --> Negative Review\n",
      "\n",
      "Actual review: if youre a fan of jackass, viva la bam or the cky videos, then you already know what youre in for. but this is one of those rare happenings when a sequel is better than the original! and man does this movie pack a mean low blow. but i mean that in a good way. its the same type of deathdefying, gutwrenching insanity that we have all come to know and love and expect from bam, knoxville and co. but this time with even more laughs than ever before! with johnny knoxvilles insane tolerance for pain, bam margeras love for harassing his friendsfamily and steveos grossout factor, you have one hell of a funny film. the bar for the stunts, skits and general mayhem of the jackass crew has been raised. jackass 3? doubtful, because its nearly impossible to improve on perfection.\n",
      "\n",
      "\n"
     ]
    }
   ],
   "source": [
    "def visualize_evaluation(y_pred, y_true, num_reviews):\n",
    "    visualize_confusion_mat(y_pred, y_true)\n",
    "    print_misclassified_reviews(y_pred, y_true, num_reviews)\n",
    "\n",
    "\n",
    "def visualize_confusion_mat(y_pred, y_true):\n",
    "    #################################################################################################\n",
    "    # Inspiration on confusion matrix from sklearn doc:                                             #\n",
    "    # https://scikit-learn.org/stable/modules/generated/sklearn.metrics.ConfusionMatrixDisplay.html #\n",
    "    #################################################################################################\n",
    "\n",
    "    # Generate confusion matrix\n",
    "    conf_mat = confusion_matrix(y_true, y_pred)\n",
    "    \n",
    "    # Generate confusion matrix display from confusion matrix\n",
    "    display_conf_mat = ConfusionMatrixDisplay(confusion_matrix=conf_mat, display_labels=[\"Negative Reviews\", \"Positive Reviews\"])\n",
    "\n",
    "    # Plot and visualize\n",
    "    display_conf_mat.plot()\n",
    "    plt.title(\"Confusion Matrix of Encoder-only Model Evaluation\")\n",
    "    plt.show()\n",
    "\n",
    "\n",
    "def print_misclassified_reviews(y_pred, y_true, num_reviews):\n",
    "    counter = 0\n",
    "    mismatch_list = y_pred == y_true\n",
    "    output_list = []\n",
    "    \n",
    "    # Go through the mismatch list \n",
    "    for i, match in enumerate(mismatch_list):\n",
    "        if counter < num_reviews:\n",
    "            # If pred and true is not a match\n",
    "            if not match:\n",
    "                counter += 1\n",
    "                # Append to output list\n",
    "                output_list.append((y_true[i], y_pred[i], dataset_test[i][\"text\"]))\n",
    "        else:\n",
    "            break\n",
    "\n",
    "    # Output the specified number of missclassifications\n",
    "    print(\"MISCLASSIFIED REVIEWS:\\n-----------------------\")\n",
    "    for i, outputs in enumerate(output_list):\n",
    "        label_map = [\"Negative Review\", \"Positive Review\"]\n",
    "        true, pred, review = outputs\n",
    "        print(f\"\\nMisclassification nr.{i+1}:\\n\")\n",
    "        print(f\"True label: {true} --> {label_map[true]}\")\n",
    "        print(f\"Predicted label: {int(pred)} --> {label_map[int(pred)]}\\n\")\n",
    "        print(f\"Actual review: {review}\\n\\n\")\n",
    "\n",
    "\n",
    "def evaluate_model(model, test_loader, pad_id):\n",
    "    model.eval()\n",
    "    correct, total = 0, 0\n",
    "\n",
    "    all_predictions = []\n",
    "    all_labels = []\n",
    "    \n",
    "    with torch.no_grad():\n",
    "        for sequences, labels in tqdm(test_loader):\n",
    "            attention_mask = create_mask(sequences, pad_id)\n",
    "            outputs = model(sequences, mask=attention_mask)\n",
    "            predictions = (outputs > 0.5).float()\n",
    "\n",
    "            # Append curr prediticions and labels to list of all\n",
    "            # predictions and labels respectively\n",
    "            all_predictions.append(predictions)\n",
    "            all_labels.append(labels)\n",
    "            \n",
    "            correct += (predictions == labels).sum().item()\n",
    "            total += labels.size(0)\n",
    "\n",
    "    # Concatenate all predictions and labels to one tensor\n",
    "    all_predictions = torch.cat(all_predictions, dim=0)\n",
    "    all_labels = torch.cat(all_labels, dim=0)\n",
    "    \n",
    "    return correct / total, all_predictions, all_labels\n",
    "    \n",
    "# Evaluate model\n",
    "accuracy, all_predictions, all_labels = evaluate_model(model, test_loader, PAD_ID)\n",
    "\n",
    "# Print statistics, visualize confusion matrix and 5 misclassifications\n",
    "print(f\"Accuracy (test): {accuracy:.4f}\")\n",
    "visualize_evaluation(all_predictions, all_labels, 5)"
   ]
  },
  {
   "cell_type": "markdown",
   "metadata": {},
   "source": [
    "### 2.7 Testing the Model on Custom Examples\n",
    "\n",
    "For fun, we test the model on some custom examples from IMDb."
   ]
  },
  {
   "cell_type": "code",
   "execution_count": 15,
   "metadata": {},
   "outputs": [],
   "source": [
    "# Function to classify a single review\n",
    "def classify_review(review, model, tokenizer, pad_idx, cls_idx, max_length):\n",
    "    # Utilizing the preprocess_text(text)\n",
    "    preprocessed_review = preprocess_text(review)\n",
    "    \n",
    "    # Reusing code from the IMDB dataset class to tokenize\n",
    "    tokenized_review = tokenizer.encode(preprocessed_review).ids\n",
    "    tokenized_review = [cls_idx] + tokenized_review[:max_length-1] + ([pad_idx]* max(0, (max_length-1) - len(tokenized_review)))\n",
    "    tokenized_review = torch.tensor(tokenized_review).unsqueeze(0)\n",
    "\n",
    "    # Reusing code from the evaluate_model function to predict\n",
    "    model.eval()\n",
    "    with torch.no_grad():\n",
    "        attention_mask = create_mask(tokenized_review, pad_idx)\n",
    "        p = model(tokenized_review, mask=attention_mask)\n",
    "        sentiment = (p > 0.5).float()\n",
    "    \n",
    "    return sentiment, p"
   ]
  },
  {
   "cell_type": "code",
   "execution_count": 16,
   "metadata": {},
   "outputs": [],
   "source": [
    "# Classifying reviews from one of our favorite movies Interstaller:\n",
    "positive_IMDB_review_1_interstellar = '''Sometimes I just need to see the start. Or end. Or a trailer. Or the music and theme from Hans Zimmer. \n",
    "Or the whole movie. Just to feel that thing, I only get from this movie. That the earth, space and time are something special, mystical.\n",
    "I never forget the first time I saw this movie, in an IMAX theatre in 2014. I was struck by it. Totally got me. \n",
    "And it stil does, 7 years later. This is the best movie ever made for me. Because of the feeling it gives me, no other movie can.\n",
    "So hard to get all of this emotion in only one movie. Brilliant.'''\n",
    "\n",
    "positive_IMDB_review_2_interstellar = '''After watching this insane movie in the theatres back in 2014 I swore to god I will wait 5 years to watch\n",
    "it again so I get to forget it and experince the insanity it has again This without doubt is THE BEST MOVIE EVER MADE'''\n",
    "\n",
    "positive_IMDB_review_3_interstellar = '''Amongst the best movies of all time. The story, the acting, the script, the cinematography,\n",
    "the effects, the sound and the production as a whole is all absolute 10/10's. But what beats all of that is Hans Zimmers compositions.\n",
    "How he continues to churn out perfection to the senses is mindblowing'''"
   ]
  },
  {
   "cell_type": "code",
   "execution_count": 17,
   "metadata": {},
   "outputs": [
    {
     "name": "stdout",
     "output_type": "stream",
     "text": [
      "\n",
      "\n",
      "Interstellar review nr. 1:\n",
      "-------------------------------\n",
      "\n",
      "Sentiment: 1.0 --> Positive Review\n",
      "Prob. of positivity: 0.982\n",
      "\n",
      "\n",
      "\n",
      "\n",
      "Interstellar review nr. 2:\n",
      "-------------------------------\n",
      "\n",
      "Sentiment: 1.0 --> Positive Review\n",
      "Prob. of positivity: 0.979\n",
      "\n",
      "\n",
      "\n",
      "\n",
      "Interstellar review nr. 3:\n",
      "-------------------------------\n",
      "\n",
      "Sentiment: 1.0 --> Positive Review\n",
      "Prob. of positivity: 0.988\n",
      "\n",
      "\n"
     ]
    }
   ],
   "source": [
    "label_map = [\"Negative Review\", \"Positive Review\"]\n",
    "\n",
    "sentiment_1, p_1 = classify_review(review=positive_IMDB_review_1_interstellar, model=model, tokenizer=tokenizer,\n",
    "                                  pad_idx=PAD_ID, cls_idx=CLS_ID, max_length=MAX_LENGTH)\n",
    "\n",
    "sentiment_2, p_2 = classify_review(review=positive_IMDB_review_2_interstellar, model=model, tokenizer=tokenizer,\n",
    "                                  pad_idx=PAD_ID, cls_idx=CLS_ID, max_length=MAX_LENGTH)\n",
    "\n",
    "sentiment_3, p_3 = classify_review(review=positive_IMDB_review_3_interstellar, model=model, tokenizer=tokenizer,\n",
    "                                  pad_idx=PAD_ID, cls_idx=CLS_ID, max_length=MAX_LENGTH)\n",
    "\n",
    "\n",
    "print(f\"\\n\\nInterstellar review nr. 1:\\n-------------------------------\\n\")\n",
    "print(f\"Sentiment: {sentiment_1} --> {label_map[int(sentiment_1)]}\\nProb. of positivity: {p_1:.3f}\\n\\n\")\n",
    "\n",
    "print(f\"\\n\\nInterstellar review nr. 2:\\n-------------------------------\\n\")\n",
    "print(f\"Sentiment: {sentiment_2} --> {label_map[int(sentiment_2)]}\\nProb. of positivity: {p_2:.3f}\\n\\n\")\n",
    "\n",
    "print(f\"\\n\\nInterstellar review nr. 3:\\n-------------------------------\\n\")\n",
    "print(f\"Sentiment: {sentiment_3} --> {label_map[int(sentiment_3)]}\\nProb. of positivity: {p_3:.3f}\\n\\n\")"
   ]
  }
 ],
 "metadata": {
  "kernelspec": {
   "display_name": "INF265",
   "language": "python",
   "name": "python3"
  },
  "language_info": {
   "codemirror_mode": {
    "name": "ipython",
    "version": 3
   },
   "file_extension": ".py",
   "mimetype": "text/x-python",
   "name": "python",
   "nbconvert_exporter": "python",
   "pygments_lexer": "ipython3",
   "version": "3.12.8"
  }
 },
 "nbformat": 4,
 "nbformat_minor": 4
}
